{
 "cells": [
  {
   "cell_type": "markdown",
   "metadata": {},
   "source": [
    "# Sales Analysis Project Notes\n",
    "This page is used simply for notes while completing the project\n",
    "\n",
    "- The step by step process\n",
    "- The concepts I need to revide moving forward\n",
    "\n",
    "\n",
    "### 1): Download the Data\n",
    "\n",
    "The data used in this project can be found here: https://github.com/KeithGalli/Pandas-Data-Science-Tasks/tree/master/SalesAnalysis/Sales_Data. I simply downloaded the zip file to extract the data. Alternatively one could fork the repository and save it locally.\n",
    "\n",
    "\n",
    "### 2): Import Project Libraries\n",
    "- pandas\n",
    "- numpy\n",
    "- matplotlib\n",
    "- os\n",
    "\n",
    "### 3): Merge the Data Files\n",
    "Given that there are 12 months of data, the are 12 spreadsheets. These need to be merged as one.\n",
    "\n",
    "\n"
   ]
  },
  {
   "cell_type": "code",
   "execution_count": 3,
   "metadata": {},
   "outputs": [],
   "source": [
    "import os\n",
    "from os import listdir"
   ]
  },
  {
   "cell_type": "markdown",
   "metadata": {},
   "source": [
    "\n",
    "#### Undertstand this condition better\n",
    "\n",
    "all_sales = all_sales[all_sales['Order Date'].str[0:2]!='Or']"
   ]
  },
  {
   "cell_type": "markdown",
   "metadata": {},
   "source": [
    "### City Column\n",
    "\n",
    "#### Getting a substring of the purchase address column. A function has to be run to get each string we want from each row. \n",
    "\n",
    "Therefor the .apply method has to be run. This applies functions made\n",
    "\n",
    "all_sales['City'] = all_sales['Purchase Address'].apply(lambda x: x.split(', ')[1]\n",
    "\n",
    "\n",
    "- Takes the purchase address, apply a lambda function\n",
    "- This function takes the string, splits it, a takes index one from the split.\n",
    "\n",
    "def get_city(address):\n",
    "    return address.split(', ')[1]\n",
    "    \n",
    "all_sales['City'] = all_sales['Purchase Address'].apply(lambda x: get_city(x))\n",
    "\n",
    "Could also have used it this way if we wanted to use the function more than once\n",
    "\n",
    "### Use lambda x whenever you want to work on the cells contents"
   ]
  },
  {
   "cell_type": "markdown",
   "metadata": {},
   "source": [
    "### Hour column\n",
    "\n",
    "- Learning about the to_datetime functionality\n",
    "- filtering the datetime column by the hour. Extremely useful\n",
    "    - all_sales['Hour'] = all_sales['Order Date'].dt.hour\n",
    "    - all_sales['Minutes'] = all_sales['Order Date'].dt.minutes"
   ]
  },
  {
   "cell_type": "markdown",
   "metadata": {},
   "source": [
    "## Which Products are sold together?\n",
    "\n",
    "Dont jump straight to one column for the answers, explore each one\n",
    "\n",
    "Break the question down and answer each subset first:\n",
    "- which rows contain duplicate values; use .duplicated()\n",
    "- Group together each row and create a new column\n",
    "\n",
    "<b>.transform</b>\n",
    "Call func on self producing a DataFrame with transformed values and that has the same axis length as self.\n",
    "\n",
    "<b>.drop_duplicates()</b>\n",
    "Return DataFrame with duplicate rows removed, optionally only considering certain columns. Indexes, including time indexes are ignored.\n",
    "\n",
    "https://stackoverflow.com/questions/52195887/counting-unique-pairs-of-numbers-into-a-python-dictionary\n",
    "\n",
    "can iterate over rows in a single column using for x in all_sales['Grouped']: "
   ]
  },
  {
   "cell_type": "code",
   "execution_count": null,
   "metadata": {},
   "outputs": [],
   "source": []
  }
 ],
 "metadata": {
  "kernelspec": {
   "display_name": "Python 3",
   "language": "python",
   "name": "python3"
  },
  "language_info": {
   "codemirror_mode": {
    "name": "ipython",
    "version": 3
   },
   "file_extension": ".py",
   "mimetype": "text/x-python",
   "name": "python",
   "nbconvert_exporter": "python",
   "pygments_lexer": "ipython3",
   "version": "3.7.4"
  }
 },
 "nbformat": 4,
 "nbformat_minor": 2
}
